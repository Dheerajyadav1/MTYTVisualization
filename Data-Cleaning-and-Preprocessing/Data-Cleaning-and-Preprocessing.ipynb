{
 "cells": [
  {
   "cell_type": "code",
   "execution_count": 1,
   "id": "7e86826d-defb-41ca-918e-05468db32d2c",
   "metadata": {},
   "outputs": [],
   "source": [
    "import pandas as pd \n",
    "import numpy as np\n",
    "import seaborn as sns \n",
    "import matplotlib.pyplot as plt"
   ]
  },
  {
   "cell_type": "code",
   "execution_count": 2,
   "id": "d102ee53-468d-461e-aa44-87e00bf4b5a8",
   "metadata": {},
   "outputs": [],
   "source": [
    "df = pd.read_csv('youtube_final_data.csv')"
   ]
  },
  {
   "cell_type": "markdown",
   "id": "5de00c31-6e55-411a-b1c4-15a5e8af835c",
   "metadata": {},
   "source": [
    "# Inspecting the dataset"
   ]
  },
  {
   "cell_type": "code",
   "execution_count": 4,
   "id": "1e5cf7c4-36cc-4369-a444-90d54d40386a",
   "metadata": {},
   "outputs": [
    {
     "data": {
      "text/html": [
       "<div>\n",
       "<style scoped>\n",
       "    .dataframe tbody tr th:only-of-type {\n",
       "        vertical-align: middle;\n",
       "    }\n",
       "\n",
       "    .dataframe tbody tr th {\n",
       "        vertical-align: top;\n",
       "    }\n",
       "\n",
       "    .dataframe thead th {\n",
       "        text-align: right;\n",
       "    }\n",
       "</style>\n",
       "<table border=\"1\" class=\"dataframe\">\n",
       "  <thead>\n",
       "    <tr style=\"text-align: right;\">\n",
       "      <th></th>\n",
       "      <th>Title</th>\n",
       "      <th>Video_length</th>\n",
       "      <th>Video_link</th>\n",
       "      <th>Likes</th>\n",
       "      <th>Views</th>\n",
       "      <th>Publish_date</th>\n",
       "      <th>Comments</th>\n",
       "    </tr>\n",
       "  </thead>\n",
       "  <tbody>\n",
       "    <tr>\n",
       "      <th>0</th>\n",
       "      <td>Operation Sindoor: Brain + Bravery Based JEE Q...</td>\n",
       "      <td>10:12</td>\n",
       "      <td>https://www.youtube.com/watch?v=dVlf8zPZavQ&amp;pp...</td>\n",
       "      <td>298</td>\n",
       "      <td>6,268</td>\n",
       "      <td>May 14, 2025</td>\n",
       "      <td>34</td>\n",
       "    </tr>\n",
       "    <tr>\n",
       "      <th>1</th>\n",
       "      <td>🔥 JEE Advanced 2025: Last-Minute Qualitative A...</td>\n",
       "      <td>04:53</td>\n",
       "      <td>https://www.youtube.com/watch?v=LlqfJW-aXC4</td>\n",
       "      <td>450</td>\n",
       "      <td>8,986</td>\n",
       "      <td>May 13, 2025</td>\n",
       "      <td>48</td>\n",
       "    </tr>\n",
       "    <tr>\n",
       "      <th>2</th>\n",
       "      <td>What to Do After CBSE 12th Result 2025? | Comp...</td>\n",
       "      <td>07:15</td>\n",
       "      <td>https://www.youtube.com/watch?v=x3UsrLDtTuM</td>\n",
       "      <td>1,091</td>\n",
       "      <td>42,181</td>\n",
       "      <td>May 13, 2025</td>\n",
       "      <td>621</td>\n",
       "    </tr>\n",
       "    <tr>\n",
       "      <th>3</th>\n",
       "      <td>JEE ADVANCED ADMIT CARD 2025: MUST-KNOW RULES ...</td>\n",
       "      <td>05:37</td>\n",
       "      <td>https://www.youtube.com/watch?v=JQ6f_7m1Qcs</td>\n",
       "      <td>500</td>\n",
       "      <td>21,052</td>\n",
       "      <td>May 12, 2025</td>\n",
       "      <td>152</td>\n",
       "    </tr>\n",
       "    <tr>\n",
       "      <th>4</th>\n",
       "      <td>Important Lessons from NEET 2025 for Future JE...</td>\n",
       "      <td>18:57</td>\n",
       "      <td>https://www.youtube.com/watch?v=l_srV0ZI1Ws</td>\n",
       "      <td>447</td>\n",
       "      <td>9,717</td>\n",
       "      <td>May 6, 2025</td>\n",
       "      <td>106</td>\n",
       "    </tr>\n",
       "  </tbody>\n",
       "</table>\n",
       "</div>"
      ],
      "text/plain": [
       "                                               Title Video_length  \\\n",
       "0  Operation Sindoor: Brain + Bravery Based JEE Q...        10:12   \n",
       "1  🔥 JEE Advanced 2025: Last-Minute Qualitative A...        04:53   \n",
       "2  What to Do After CBSE 12th Result 2025? | Comp...        07:15   \n",
       "3  JEE ADVANCED ADMIT CARD 2025: MUST-KNOW RULES ...        05:37   \n",
       "4  Important Lessons from NEET 2025 for Future JE...        18:57   \n",
       "\n",
       "                                          Video_link  Likes   Views  \\\n",
       "0  https://www.youtube.com/watch?v=dVlf8zPZavQ&pp...    298   6,268   \n",
       "1        https://www.youtube.com/watch?v=LlqfJW-aXC4    450   8,986   \n",
       "2        https://www.youtube.com/watch?v=x3UsrLDtTuM  1,091  42,181   \n",
       "3        https://www.youtube.com/watch?v=JQ6f_7m1Qcs    500  21,052   \n",
       "4        https://www.youtube.com/watch?v=l_srV0ZI1Ws    447   9,717   \n",
       "\n",
       "   Publish_date Comments  \n",
       "0  May 14, 2025       34  \n",
       "1  May 13, 2025       48  \n",
       "2  May 13, 2025      621  \n",
       "3  May 12, 2025      152  \n",
       "4   May 6, 2025      106  "
      ]
     },
     "execution_count": 4,
     "metadata": {},
     "output_type": "execute_result"
    }
   ],
   "source": [
    "df.head()"
   ]
  },
  {
   "cell_type": "code",
   "execution_count": 5,
   "id": "1467b4e5-b971-4c57-b753-e5a058dd22e2",
   "metadata": {},
   "outputs": [
    {
     "data": {
      "text/html": [
       "<div>\n",
       "<style scoped>\n",
       "    .dataframe tbody tr th:only-of-type {\n",
       "        vertical-align: middle;\n",
       "    }\n",
       "\n",
       "    .dataframe tbody tr th {\n",
       "        vertical-align: top;\n",
       "    }\n",
       "\n",
       "    .dataframe thead th {\n",
       "        text-align: right;\n",
       "    }\n",
       "</style>\n",
       "<table border=\"1\" class=\"dataframe\">\n",
       "  <thead>\n",
       "    <tr style=\"text-align: right;\">\n",
       "      <th></th>\n",
       "      <th>Title</th>\n",
       "      <th>Video_length</th>\n",
       "      <th>Video_link</th>\n",
       "      <th>Likes</th>\n",
       "      <th>Views</th>\n",
       "      <th>Publish_date</th>\n",
       "      <th>Comments</th>\n",
       "    </tr>\n",
       "  </thead>\n",
       "  <tbody>\n",
       "    <tr>\n",
       "      <th>1275</th>\n",
       "      <td>NaN</td>\n",
       "      <td>NaN</td>\n",
       "      <td>NaN</td>\n",
       "      <td>NaN</td>\n",
       "      <td>NaN</td>\n",
       "      <td>NaN</td>\n",
       "      <td>NaN</td>\n",
       "    </tr>\n",
       "    <tr>\n",
       "      <th>1276</th>\n",
       "      <td>NaN</td>\n",
       "      <td>NaN</td>\n",
       "      <td>NaN</td>\n",
       "      <td>NaN</td>\n",
       "      <td>NaN</td>\n",
       "      <td>NaN</td>\n",
       "      <td>NaN</td>\n",
       "    </tr>\n",
       "    <tr>\n",
       "      <th>1277</th>\n",
       "      <td>NaN</td>\n",
       "      <td>NaN</td>\n",
       "      <td>NaN</td>\n",
       "      <td>NaN</td>\n",
       "      <td>NaN</td>\n",
       "      <td>NaN</td>\n",
       "      <td>NaN</td>\n",
       "    </tr>\n",
       "    <tr>\n",
       "      <th>1278</th>\n",
       "      <td>NaN</td>\n",
       "      <td>NaN</td>\n",
       "      <td>NaN</td>\n",
       "      <td>NaN</td>\n",
       "      <td>NaN</td>\n",
       "      <td>NaN</td>\n",
       "      <td>NaN</td>\n",
       "    </tr>\n",
       "    <tr>\n",
       "      <th>1279</th>\n",
       "      <td>NaN</td>\n",
       "      <td>NaN</td>\n",
       "      <td>NaN</td>\n",
       "      <td>NaN</td>\n",
       "      <td>NaN</td>\n",
       "      <td>NaN</td>\n",
       "      <td>NaN</td>\n",
       "    </tr>\n",
       "  </tbody>\n",
       "</table>\n",
       "</div>"
      ],
      "text/plain": [
       "     Title Video_length Video_link Likes Views Publish_date Comments\n",
       "1275   NaN          NaN        NaN   NaN   NaN          NaN      NaN\n",
       "1276   NaN          NaN        NaN   NaN   NaN          NaN      NaN\n",
       "1277   NaN          NaN        NaN   NaN   NaN          NaN      NaN\n",
       "1278   NaN          NaN        NaN   NaN   NaN          NaN      NaN\n",
       "1279   NaN          NaN        NaN   NaN   NaN          NaN      NaN"
      ]
     },
     "execution_count": 5,
     "metadata": {},
     "output_type": "execute_result"
    }
   ],
   "source": [
    "df.tail()"
   ]
  },
  {
   "cell_type": "code",
   "execution_count": 6,
   "id": "b29b04e3-154d-4434-a3bc-39aebf89c943",
   "metadata": {},
   "outputs": [
    {
     "name": "stdout",
     "output_type": "stream",
     "text": [
      "<class 'pandas.core.frame.DataFrame'>\n",
      "RangeIndex: 1280 entries, 0 to 1279\n",
      "Data columns (total 7 columns):\n",
      " #   Column        Non-Null Count  Dtype \n",
      "---  ------        --------------  ----- \n",
      " 0   Title         1248 non-null   object\n",
      " 1   Video_length  1248 non-null   object\n",
      " 2   Video_link    1248 non-null   object\n",
      " 3   Likes         1246 non-null   object\n",
      " 4   Views         1247 non-null   object\n",
      " 5   Publish_date  1247 non-null   object\n",
      " 6   Comments      1225 non-null   object\n",
      "dtypes: object(7)\n",
      "memory usage: 70.1+ KB\n"
     ]
    }
   ],
   "source": [
    "df.info()"
   ]
  },
  {
   "cell_type": "code",
   "execution_count": 7,
   "id": "8f165d33-d3f7-4635-9644-4c25d9976769",
   "metadata": {},
   "outputs": [
    {
     "data": {
      "text/html": [
       "<div>\n",
       "<style scoped>\n",
       "    .dataframe tbody tr th:only-of-type {\n",
       "        vertical-align: middle;\n",
       "    }\n",
       "\n",
       "    .dataframe tbody tr th {\n",
       "        vertical-align: top;\n",
       "    }\n",
       "\n",
       "    .dataframe thead th {\n",
       "        text-align: right;\n",
       "    }\n",
       "</style>\n",
       "<table border=\"1\" class=\"dataframe\">\n",
       "  <thead>\n",
       "    <tr style=\"text-align: right;\">\n",
       "      <th></th>\n",
       "      <th>Title</th>\n",
       "      <th>Video_length</th>\n",
       "      <th>Video_link</th>\n",
       "      <th>Likes</th>\n",
       "      <th>Views</th>\n",
       "      <th>Publish_date</th>\n",
       "      <th>Comments</th>\n",
       "    </tr>\n",
       "  </thead>\n",
       "  <tbody>\n",
       "    <tr>\n",
       "      <th>count</th>\n",
       "      <td>1248</td>\n",
       "      <td>1248</td>\n",
       "      <td>1248</td>\n",
       "      <td>1246</td>\n",
       "      <td>1247</td>\n",
       "      <td>1247</td>\n",
       "      <td>1225</td>\n",
       "    </tr>\n",
       "    <tr>\n",
       "      <th>unique</th>\n",
       "      <td>1187</td>\n",
       "      <td>1018</td>\n",
       "      <td>1198</td>\n",
       "      <td>940</td>\n",
       "      <td>1189</td>\n",
       "      <td>833</td>\n",
       "      <td>360</td>\n",
       "    </tr>\n",
       "    <tr>\n",
       "      <th>top</th>\n",
       "      <td>JEE Main 2021 Question Paper Solutions | 20th ...</td>\n",
       "      <td>01:00</td>\n",
       "      <td>https://www.youtube.com/watch?v=STG1U-46UAQ</td>\n",
       "      <td>368</td>\n",
       "      <td>8,263</td>\n",
       "      <td>Jul 20, 2021</td>\n",
       "      <td>7</td>\n",
       "    </tr>\n",
       "    <tr>\n",
       "      <th>freq</th>\n",
       "      <td>36</td>\n",
       "      <td>11</td>\n",
       "      <td>6</td>\n",
       "      <td>8</td>\n",
       "      <td>6</td>\n",
       "      <td>39</td>\n",
       "      <td>17</td>\n",
       "    </tr>\n",
       "  </tbody>\n",
       "</table>\n",
       "</div>"
      ],
      "text/plain": [
       "                                                    Title Video_length  \\\n",
       "count                                                1248         1248   \n",
       "unique                                               1187         1018   \n",
       "top     JEE Main 2021 Question Paper Solutions | 20th ...        01:00   \n",
       "freq                                                   36           11   \n",
       "\n",
       "                                         Video_link Likes  Views  \\\n",
       "count                                          1248  1246   1247   \n",
       "unique                                         1198   940   1189   \n",
       "top     https://www.youtube.com/watch?v=STG1U-46UAQ   368  8,263   \n",
       "freq                                              6     8      6   \n",
       "\n",
       "        Publish_date Comments  \n",
       "count           1247     1225  \n",
       "unique           833      360  \n",
       "top     Jul 20, 2021        7  \n",
       "freq              39       17  "
      ]
     },
     "execution_count": 7,
     "metadata": {},
     "output_type": "execute_result"
    }
   ],
   "source": [
    "df.describe()"
   ]
  },
  {
   "cell_type": "code",
   "execution_count": 8,
   "id": "82dcae56-326a-4a87-a13a-b4328150ac5f",
   "metadata": {},
   "outputs": [
    {
     "data": {
      "text/plain": [
       "Title           32\n",
       "Video_length    32\n",
       "Video_link      32\n",
       "Likes           34\n",
       "Views           33\n",
       "Publish_date    33\n",
       "Comments        55\n",
       "dtype: int64"
      ]
     },
     "execution_count": 8,
     "metadata": {},
     "output_type": "execute_result"
    }
   ],
   "source": [
    "df.isnull().sum()"
   ]
  },
  {
   "cell_type": "markdown",
   "id": "f8730dee-79bc-41d5-9846-21a6afc883fc",
   "metadata": {},
   "source": [
    "# Data Cleaning and Preprocessing"
   ]
  },
  {
   "cell_type": "raw",
   "id": "76352a39-88cd-473f-b8fe-1c67ca0ab5ac",
   "metadata": {},
   "source": [
    "First droping the rows which have all the attributes as NaN"
   ]
  },
  {
   "cell_type": "code",
   "execution_count": 10,
   "id": "d7a57d66-3690-44cc-a7a2-215403f9ff43",
   "metadata": {},
   "outputs": [],
   "source": [
    "df = df.dropna(subset = ['Title'])"
   ]
  },
  {
   "cell_type": "code",
   "execution_count": 11,
   "id": "4b6cebba-cfd7-43ef-bd29-3a0517557954",
   "metadata": {},
   "outputs": [
    {
     "data": {
      "text/plain": [
       "Title            0\n",
       "Video_length     0\n",
       "Video_link       0\n",
       "Likes            2\n",
       "Views            1\n",
       "Publish_date     1\n",
       "Comments        23\n",
       "dtype: int64"
      ]
     },
     "execution_count": 11,
     "metadata": {},
     "output_type": "execute_result"
    }
   ],
   "source": [
    "df.isnull().sum()"
   ]
  },
  {
   "cell_type": "code",
   "execution_count": 12,
   "id": "c2d06522-79c8-4b82-816a-ad6fd6d5a8e2",
   "metadata": {},
   "outputs": [],
   "source": [
    "df= df.dropna(subset = ['Views','Likes'])"
   ]
  },
  {
   "cell_type": "code",
   "execution_count": 13,
   "id": "3ba21074-d75d-40fe-9520-5aa0cfee40dd",
   "metadata": {},
   "outputs": [],
   "source": [
    "df.fillna(0, inplace = True)"
   ]
  },
  {
   "cell_type": "code",
   "execution_count": 14,
   "id": "f1d90e74-b1f2-47c8-bc15-a8870a4c8c8c",
   "metadata": {},
   "outputs": [
    {
     "data": {
      "text/plain": [
       "Title           0\n",
       "Video_length    0\n",
       "Video_link      0\n",
       "Likes           0\n",
       "Views           0\n",
       "Publish_date    0\n",
       "Comments        0\n",
       "dtype: int64"
      ]
     },
     "execution_count": 14,
     "metadata": {},
     "output_type": "execute_result"
    }
   ],
   "source": [
    "df.isnull().sum()"
   ]
  },
  {
   "cell_type": "code",
   "execution_count": 15,
   "id": "42722696-3eb1-44f1-82a2-91e85085bbb8",
   "metadata": {},
   "outputs": [
    {
     "data": {
      "text/plain": [
       "Title           object\n",
       "Video_length    object\n",
       "Video_link      object\n",
       "Likes           object\n",
       "Views           object\n",
       "Publish_date    object\n",
       "Comments        object\n",
       "dtype: object"
      ]
     },
     "execution_count": 15,
     "metadata": {},
     "output_type": "execute_result"
    }
   ],
   "source": [
    "df.dtypes"
   ]
  },
  {
   "cell_type": "code",
   "execution_count": 16,
   "id": "8633fcff-1abf-45c7-8b31-6d172469ddea",
   "metadata": {},
   "outputs": [],
   "source": [
    "df['Likes'] = df['Likes'].astype(str).str.replace(',', '').astype(int)\n",
    "df['Views'] = df['Views'].astype(str).str.replace(',', '').astype(int)\n",
    "df['Comments'] = df['Comments'].astype(str).str.replace(',', '').astype(int)\n",
    "df['Publish_date']= df['Publish_date'].str.replace('Premiered ', '')\n",
    "df['Publish_date'] = pd.to_datetime(df['Publish_date'], format='%b %d, %Y')"
   ]
  },
  {
   "cell_type": "code",
   "execution_count": 34,
   "id": "c123e259-f573-43ea-a3b5-13e9c5616488",
   "metadata": {},
   "outputs": [
    {
     "data": {
      "text/plain": [
       "Title                   object\n",
       "Video_length            object\n",
       "Video_link              object\n",
       "Likes                    int32\n",
       "Views                    int32\n",
       "Publish_date    datetime64[ns]\n",
       "Comments                 int32\n",
       "dtype: object"
      ]
     },
     "execution_count": 34,
     "metadata": {},
     "output_type": "execute_result"
    }
   ],
   "source": [
    "df.dtypes"
   ]
  },
  {
   "cell_type": "markdown",
   "id": "91f01167-5589-44bd-b274-7d7b2a8d6e89",
   "metadata": {},
   "source": [
    "# Feature Engineering"
   ]
  },
  {
   "cell_type": "raw",
   "id": "491146b7-fce3-440b-874f-150f7b807466",
   "metadata": {},
   "source": [
    "Adding Duration in Seconds"
   ]
  },
  {
   "cell_type": "code",
   "execution_count": 41,
   "id": "d183a2f4-23d2-4df4-bf7e-ffc9522c04dc",
   "metadata": {},
   "outputs": [],
   "source": [
    "def duration_in_seconds(duration):\n",
    "    parts = list(map(int, duration.split(':')))\n",
    "    if len(parts)==3:\n",
    "        h,m,s = parts\n",
    "    elif len(parts)==2:\n",
    "        h=0\n",
    "        m,s = parts\n",
    "    else:\n",
    "        return 0\n",
    "    return h*3600 + m*60 +s"
   ]
  },
  {
   "cell_type": "code",
   "execution_count": 43,
   "id": "86d7d1e6-b734-49f2-9669-cfc7d474c433",
   "metadata": {},
   "outputs": [],
   "source": [
    "df['Video_length_seconds'] = df['Video_length'].apply(duration_in_seconds)"
   ]
  },
  {
   "cell_type": "code",
   "execution_count": 45,
   "id": "c187c2c6-d2a5-4914-b323-61b83b59bfd9",
   "metadata": {},
   "outputs": [
    {
     "data": {
      "text/plain": [
       "Title                           object\n",
       "Video_length                    object\n",
       "Video_link                      object\n",
       "Likes                            int32\n",
       "Views                            int32\n",
       "Publish_date            datetime64[ns]\n",
       "Comments                         int32\n",
       "Video_length_seconds             int64\n",
       "dtype: object"
      ]
     },
     "execution_count": 45,
     "metadata": {},
     "output_type": "execute_result"
    }
   ],
   "source": [
    "df.dtypes"
   ]
  },
  {
   "cell_type": "code",
   "execution_count": 53,
   "id": "781be4b0-1240-485f-af7f-2ec4795e2d0c",
   "metadata": {},
   "outputs": [],
   "source": [
    "df.to_csv('Final_data.csv', index=False)"
   ]
  },
  {
   "cell_type": "code",
   "execution_count": null,
   "id": "4a40c269-2e80-42e6-8f7d-4c00e344816c",
   "metadata": {},
   "outputs": [],
   "source": []
  }
 ],
 "metadata": {
  "kernelspec": {
   "display_name": "Python [conda env:base] *",
   "language": "python",
   "name": "conda-base-py"
  },
  "language_info": {
   "codemirror_mode": {
    "name": "ipython",
    "version": 3
   },
   "file_extension": ".py",
   "mimetype": "text/x-python",
   "name": "python",
   "nbconvert_exporter": "python",
   "pygments_lexer": "ipython3",
   "version": "3.12.7"
  }
 },
 "nbformat": 4,
 "nbformat_minor": 5
}
