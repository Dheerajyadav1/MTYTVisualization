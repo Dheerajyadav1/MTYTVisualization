{
 "cells": [
  {
   "cell_type": "code",
   "execution_count": 2,
   "id": "4e0d355c-beae-4d41-9ae5-9ede2314c33c",
   "metadata": {},
   "outputs": [],
   "source": [
    "from selenium import webdriver\n",
    "from selenium.webdriver.chrome.service import Service\n",
    "from selenium.webdriver.common.by import By\n",
    "from selenium.webdriver.common.keys import Keys\n",
    "from selenium.webdriver.chrome.options import Options\n",
    "from bs4 import BeautifulSoup\n",
    "import time\n",
    "from tqdm import tqdm"
   ]
  },
  {
   "cell_type": "code",
   "execution_count": 4,
   "id": "e36bd692-8476-40d2-9470-6617f5af7aeb",
   "metadata": {},
   "outputs": [],
   "source": [
    "driver= webdriver.Chrome()"
   ]
  },
  {
   "cell_type": "code",
   "execution_count": null,
   "id": "f2491975-6297-4914-8455-d2b245d393a0",
   "metadata": {},
   "outputs": [],
   "source": [
    "driver.get('https://www.youtube.com/@MohitTyagi/videos')"
   ]
  },
  {
   "cell_type": "code",
   "execution_count": null,
   "id": "cfd4d8bb-bf71-4a8c-a639-90aebc52575e",
   "metadata": {},
   "outputs": [],
   "source": [
    "time.sleep(4)\n",
    "from selenium.webdriver.common.keys import Keys\n",
    "from selenium.webdriver.common.by import By\n",
    "\n",
    "body = driver.find_element(By.TAG_NAME, 'body')\n",
    "\n",
    "while True:\n",
    "    body.send_keys(Keys.PAGE_DOWN)\n",
    "    time.sleep(2)"
   ]
  },
  {
   "cell_type": "code",
   "execution_count": 20,
   "id": "090f58f5-c8f8-483c-82ff-b5d694ab3f62",
   "metadata": {},
   "outputs": [],
   "source": [
    "src = driver.page_source"
   ]
  },
  {
   "cell_type": "code",
   "execution_count": 22,
   "id": "2199159c-d6fe-43b8-811b-ec32e278b1e7",
   "metadata": {},
   "outputs": [],
   "source": [
    "soup = BeautifulSoup(src, 'html.parser')"
   ]
  },
  {
   "cell_type": "code",
   "execution_count": null,
   "id": "bcdc4c73-a54f-4630-9939-7446aa196f86",
   "metadata": {},
   "outputs": [],
   "source": [
    "print(soup.text.replace('\\n\\n', ''))"
   ]
  },
  {
   "cell_type": "code",
   "execution_count": null,
   "id": "e3029064-7dfa-4b59-b913-759aa4626c31",
   "metadata": {},
   "outputs": [],
   "source": [
    "sp = soup.find('ytd-rich-grid-renderer')\n"
   ]
  },
  {
   "cell_type": "code",
   "execution_count": 68,
   "id": "d416b08a-01da-4669-a5af-55bf4311eea1",
   "metadata": {},
   "outputs": [
    {
     "name": "stderr",
     "output_type": "stream",
     "text": [
      "100%|█████████████████████████████████████████████████████████████████████████████| 3846/3846 [00:07<00:00, 525.40it/s]\n"
     ]
    }
   ],
   "source": [
    "data=[]\n",
    "for sp in tqdm(soup.find_all('ytd-rich-item-renderer')):\n",
    "    title = sp.find('a', class_ = 'yt-simple-endpoint focus-on-expand style-scope ytd-rich-grid-media').get('title')\n",
    "    views = sp.find_all('span', class_ = 'inline-metadata-item style-scope ytd-video-meta-block')[0].text\n",
    "    date_time = sp.find_all('span', class_ = 'inline-metadata-item style-scope ytd-video-meta-block')[1].text\n",
    "    video_length = sp.find('div', class_ = 'badge-shape-wiz__text').text\n",
    "    thumbnail = sp.find('img' , class_ = 'yt-core-image').get('src')\n",
    "    video_link = 'https://www.youtube.com' + sp.find('a', class_ = 'yt-simple-endpoint').get('href')\n",
    "    data.append([title, views, date_time, video_length, thumbnail, video_link])\n",
    "    "
   ]
  },
  {
   "cell_type": "code",
   "execution_count": 70,
   "id": "2439bffc-946a-418c-936d-2e69543c75b7",
   "metadata": {},
   "outputs": [],
   "source": [
    "df= pd.DataFrame(data, columns = ['Title', 'Views', 'Date_time', 'Video_length', 'Thumbnail', 'Video_link'])"
   ]
  },
  {
   "cell_type": "code",
   "execution_count": null,
   "id": "b3efd331-9035-4f4c-bb85-71775f5afc2d",
   "metadata": {},
   "outputs": [],
   "source": [
    "df"
   ]
  },
  {
   "cell_type": "code",
   "execution_count": 76,
   "id": "21b21ce8-423d-46d8-aa45-db02fb7b50de",
   "metadata": {},
   "outputs": [
    {
     "data": {
      "text/plain": [
       "Title             0\n",
       "Views             0\n",
       "Date_time         0\n",
       "Video_length      0\n",
       "Thumbnail       219\n",
       "Video_link        0\n",
       "dtype: int64"
      ]
     },
     "execution_count": 76,
     "metadata": {},
     "output_type": "execute_result"
    }
   ],
   "source": [
    "df.isnull().sum()"
   ]
  },
  {
   "cell_type": "code",
   "execution_count": 78,
   "id": "5c3b334f-6e97-4429-bc9b-4a0b9728332b",
   "metadata": {},
   "outputs": [],
   "source": [
    "df.to_csv('MohitTyagi.csv', index=False)"
   ]
  },
  {
   "cell_type": "code",
   "execution_count": null,
   "id": "f371617e-583b-4425-8eb5-c6fb4a532224",
   "metadata": {},
   "outputs": [],
   "source": []
  }
 ],
 "metadata": {
  "kernelspec": {
   "display_name": "Python [conda env:base] *",
   "language": "python",
   "name": "conda-base-py"
  },
  "language_info": {
   "codemirror_mode": {
    "name": "ipython",
    "version": 3
   },
   "file_extension": ".py",
   "mimetype": "text/x-python",
   "name": "python",
   "nbconvert_exporter": "python",
   "pygments_lexer": "ipython3",
   "version": "3.12.7"
  }
 },
 "nbformat": 4,
 "nbformat_minor": 5
}
